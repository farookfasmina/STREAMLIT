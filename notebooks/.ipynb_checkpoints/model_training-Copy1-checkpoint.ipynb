{
 "cells": [
  {
   "cell_type": "code",
   "execution_count": 13,
   "id": "6d977dc8-0d9e-4a4f-a262-b0457c578037",
   "metadata": {},
   "outputs": [
    {
     "ename": "AssertionError",
     "evalue": "Expected data/train.csv to exist. Please add Kaggle's train.csv there.",
     "output_type": "error",
     "traceback": [
      "\u001b[1;31m---------------------------------------------------------------------------\u001b[0m",
      "\u001b[1;31mAssertionError\u001b[0m                            Traceback (most recent call last)",
      "Cell \u001b[1;32mIn[13], line 25\u001b[0m\n\u001b[0;32m     22\u001b[0m np\u001b[38;5;241m.\u001b[39mrandom\u001b[38;5;241m.\u001b[39mseed(RANDOM_STATE)\n\u001b[0;32m     24\u001b[0m DATA_PATH \u001b[38;5;241m=\u001b[39m \u001b[38;5;124m'\u001b[39m\u001b[38;5;124mdata/train.csv\u001b[39m\u001b[38;5;124m'\u001b[39m  \u001b[38;5;66;03m# Kaggle Titanic train file\u001b[39;00m\n\u001b[1;32m---> 25\u001b[0m \u001b[38;5;28;01massert\u001b[39;00m os\u001b[38;5;241m.\u001b[39mpath\u001b[38;5;241m.\u001b[39mexists(DATA_PATH), \u001b[38;5;124mf\u001b[39m\u001b[38;5;124m\"\u001b[39m\u001b[38;5;124mExpected \u001b[39m\u001b[38;5;132;01m{\u001b[39;00mDATA_PATH\u001b[38;5;132;01m}\u001b[39;00m\u001b[38;5;124m to exist. Please add Kaggle\u001b[39m\u001b[38;5;124m'\u001b[39m\u001b[38;5;124ms train.csv there.\u001b[39m\u001b[38;5;124m\"\u001b[39m\n\u001b[0;32m     26\u001b[0m df \u001b[38;5;241m=\u001b[39m pd\u001b[38;5;241m.\u001b[39mread_csv(DATA_PATH)\n\u001b[0;32m     27\u001b[0m df\u001b[38;5;241m.\u001b[39mhead()\n",
      "\u001b[1;31mAssertionError\u001b[0m: Expected data/train.csv to exist. Please add Kaggle's train.csv there."
     ]
    }
   ],
   "source": [
    "import os, warnings\n",
    "warnings.filterwarnings('ignore')\n",
    "\n",
    "import numpy as np\n",
    "import pandas as pd\n",
    "\n",
    "# Viz\n",
    "import matplotlib.pyplot as plt\n",
    "import seaborn as sns\n",
    "\n",
    "# ML\n",
    "from sklearn.model_selection import train_test_split, cross_val_score\n",
    "from sklearn.preprocessing import OneHotEncoder, StandardScaler\n",
    "from sklearn.compose import ColumnTransformer\n",
    "from sklearn.pipeline import Pipeline\n",
    "from sklearn.linear_model import LogisticRegression\n",
    "from sklearn.ensemble import RandomForestClassifier\n",
    "from sklearn.metrics import accuracy_score, classification_report, confusion_matrix\n",
    "import joblib\n",
    "\n",
    "RANDOM_STATE = 42\n",
    "np.random.seed(RANDOM_STATE)\n",
    "\n",
    "DATA_PATH = 'data/train.csv'  # Kaggle Titanic train file\n",
    "assert os.path.exists(DATA_PATH), f\"Expected {DATA_PATH} to exist. Please add Kaggle's train.csv there.\"\n",
    "df = pd.read_csv(DATA_PATH)\n",
    "df.head()\n"
   ]
  },
  {
   "cell_type": "code",
   "execution_count": null,
   "id": "28d290bc-b9ab-478d-a4fb-075356dfdc86",
   "metadata": {},
   "outputs": [],
   "source": []
  },
  {
   "cell_type": "code",
   "execution_count": 6,
   "id": "3e9d1e9b-a66f-418d-8666-730cb1ec7ac5",
   "metadata": {},
   "outputs": [],
   "source": [
    "df.fillna({\n",
    "    'Age': df['Age'].median(),\n",
    "    'Embarked': df['Embarked'].mode()[0]\n",
    "}, inplace=True)\n"
   ]
  },
  {
   "cell_type": "code",
   "execution_count": 7,
   "id": "d37a1aed-4b0b-4056-b701-7021a84d26ab",
   "metadata": {},
   "outputs": [],
   "source": [
    "features = ['Pclass', 'Sex', 'Age', 'SibSp', 'Parch', 'Fare', 'Embarked']\n",
    "X = df[features]\n",
    "y = df['Survived']"
   ]
  },
  {
   "cell_type": "code",
   "execution_count": 8,
   "id": "92adc91b-b033-4f63-badf-fcdb77272032",
   "metadata": {},
   "outputs": [],
   "source": [
    "X_train, X_test, y_train, y_test = train_test_split(\n",
    "    X, y, test_size=0.2, random_state=42\n",
    ")\n"
   ]
  },
  {
   "cell_type": "code",
   "execution_count": 9,
   "id": "9db86fd2-1a8b-4a26-ac17-74d0910463a4",
   "metadata": {},
   "outputs": [],
   "source": [
    "num_features = ['Age', 'SibSp', 'Parch', 'Fare']\n",
    "cat_features = ['Pclass', 'Sex', 'Embarked']\n",
    "\n",
    "num_pipeline = Pipeline([('scaler', StandardScaler())])\n",
    "cat_pipeline = Pipeline([('onehot', OneHotEncoder(handle_unknown='ignore'))])\n",
    "\n",
    "preprocessor = ColumnTransformer([\n",
    "    ('num', num_pipeline, num_features),\n",
    "    ('cat', cat_pipeline, cat_features)\n",
    "])\n"
   ]
  },
  {
   "cell_type": "code",
   "execution_count": 10,
   "id": "a30ef8a9-c85b-462b-9083-f63a7756cef3",
   "metadata": {},
   "outputs": [],
   "source": [
    "pipelines = {\n",
    "    'RandomForest': Pipeline([\n",
    "        ('pre', preprocessor),\n",
    "        ('clf', RandomForestClassifier(n_estimators=100, random_state=42))\n",
    "    ]),\n",
    "    'LogisticRegression': Pipeline([\n",
    "        ('pre', preprocessor),\n",
    "        ('clf', LogisticRegression(max_iter=1000))\n",
    "    ])\n",
    "}"
   ]
  },
  {
   "cell_type": "code",
   "execution_count": 11,
   "id": "0070698b-f2d1-4bd5-8998-fad5782a57ac",
   "metadata": {},
   "outputs": [
    {
     "name": "stdout",
     "output_type": "stream",
     "text": [
      "RandomForest accuracy: 0.8156\n",
      "LogisticRegression accuracy: 0.7989\n",
      "Best model accuracy: 0.8156\n"
     ]
    }
   ],
   "source": [
    "best_model = None\n",
    "best_acc = 0\n",
    "\n",
    "for name, pipe in pipelines.items():\n",
    "    pipe.fit(X_train, y_train)\n",
    "    preds = pipe.predict(X_test)\n",
    "    acc = accuracy_score(y_test, preds)\n",
    "    print(f\"{name} accuracy: {acc:.4f}\")\n",
    "    if acc > best_acc:\n",
    "        best_acc = acc\n",
    "        best_model = pipe\n",
    "\n",
    "print(f\"Best model accuracy: {best_acc:.4f}\")"
   ]
  },
  {
   "cell_type": "code",
   "execution_count": 12,
   "id": "8aea2a18-0ee8-4d55-a329-5889a65c761b",
   "metadata": {},
   "outputs": [
    {
     "name": "stdout",
     "output_type": "stream",
     "text": [
      "Model saved to ../model.pkl\n"
     ]
    }
   ],
   "source": [
    "joblib.dump(best_model, \"../model.pkl\")\n",
    "print(\"Model saved to ../model.pkl\")"
   ]
  },
  {
   "cell_type": "code",
   "execution_count": null,
   "id": "09a95e4d-640e-49cf-b418-512e48a795e1",
   "metadata": {},
   "outputs": [],
   "source": []
  }
 ],
 "metadata": {
  "kernelspec": {
   "display_name": "Python 3 (ipykernel)",
   "language": "python",
   "name": "python3"
  },
  "language_info": {
   "codemirror_mode": {
    "name": "ipython",
    "version": 3
   },
   "file_extension": ".py",
   "mimetype": "text/x-python",
   "name": "python",
   "nbconvert_exporter": "python",
   "pygments_lexer": "ipython3",
   "version": "3.10.18"
  }
 },
 "nbformat": 4,
 "nbformat_minor": 5
}
